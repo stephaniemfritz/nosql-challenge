{
 "cells": [
  {
   "cell_type": "code",
   "execution_count": 1,
   "metadata": {},
   "outputs": [],
   "source": [
    "# Dependencies\n",
    "import requests\n",
    "from pprint import pprint\n",
    "\n",
    "# Define the base World Bank API URL\n",
    "url = \"https://api.worldbank.org/v2/\"\n",
    "api_format = \"json\""
   ]
  },
  {
   "cell_type": "code",
   "execution_count": 2,
   "metadata": {},
   "outputs": [
    {
     "name": "stdout",
     "output_type": "stream",
     "text": [
      "{'id': 'IBD', 'iso2code': 'XF', 'value': 'IBRD'}\n"
     ]
    }
   ],
   "source": [
    "# Get the list of lending types from the World Bank\n",
    "lending_url = f\"{url}lendingTypes?format={api_format}\"\n",
    "lending_response =\n",
    "\n",
    "# First element is general information, second is the lending types\n",
    "lending_types = lending_response[1]\n",
    "\n",
    "# Print the first lending type object\n"
   ]
  },
  {
   "cell_type": "code",
   "execution_count": 3,
   "metadata": {},
   "outputs": [
    {
     "data": {
      "text/plain": [
       "['IBD', 'IDB', 'IDX', 'LNX']"
      ]
     },
     "execution_count": 3,
     "metadata": {},
     "output_type": "execute_result"
    }
   ],
   "source": [
    "# Using a list comprehension, extract the id of each lending type into a new list\n",
    "lending_type_ids =\n",
    "lending_type_ids"
   ]
  },
  {
   "cell_type": "markdown",
   "metadata": {},
   "source": [
    "### Determine how many countries fall into each lending type.\n",
    "Hint: Look at the first element of the response array."
   ]
  },
  {
   "cell_type": "code",
   "execution_count": 4,
   "metadata": {},
   "outputs": [
    {
     "name": "stdout",
     "output_type": "stream",
     "text": [
      "{'page': 1, 'pages': 3, 'per_page': '50', 'total': 136}\n"
     ]
    }
   ],
   "source": [
    "# Use the first lending type id as a test\n",
    "lending_type_id = lending_type_ids[0]\n",
    "\n",
    "# Define the query url\n",
    "query_url = f\"{url}countries?lendingType={lending_type_id}&format=json\"\n",
    "response =\n",
    "\n",
    "# Extract the first element of the response array\n"
   ]
  },
  {
   "cell_type": "code",
   "execution_count": 5,
   "metadata": {},
   "outputs": [],
   "source": [
    "# Create a new dictionary to hold our gathered information\n",
    "\n",
    "\n",
    "# For each lending type id\n",
    "\n",
    "    # Define the query url\n",
    "    query_url = f\"{url}countries?lendingType={lending_type_id}&format=json\"\n",
    "    response =\n",
    "\n",
    "    # Extract the first element of the response array\n",
    "\n",
    "\n",
    "    # Assign the total value to the lending type id key\n"
   ]
  },
  {
   "cell_type": "code",
   "execution_count": 6,
   "metadata": {},
   "outputs": [
    {
     "name": "stdout",
     "output_type": "stream",
     "text": [
      "The number of countries with lending type IBD is 136.\n",
      "The number of countries with lending type IDB is 34.\n",
      "The number of countries with lending type IDX is 120.\n",
      "The number of countries with lending type LNX is 72.\n"
     ]
    }
   ],
   "source": [
    "# Print the number of countries of each lending type\n"
   ]
  },
  {
   "cell_type": "code",
   "execution_count": null,
   "metadata": {},
   "outputs": [],
   "source": []
  }
 ],
 "metadata": {
  "kernelspec": {
   "display_name": "Python 3 (ipykernel)",
   "language": "python",
   "name": "python3"
  },
  "language_info": {
   "codemirror_mode": {
    "name": "ipython",
    "version": 3
   },
   "file_extension": ".py",
   "mimetype": "text/x-python",
   "name": "python",
   "nbconvert_exporter": "python",
   "pygments_lexer": "ipython3",
   "version": "3.10.14"
  },
  "varInspector": {
   "cols": {
    "lenName": 16,
    "lenType": 16,
    "lenVar": 40
   },
   "kernels_config": {
    "python": {
     "delete_cmd_postfix": "",
     "delete_cmd_prefix": "del ",
     "library": "var_list.py",
     "varRefreshCmd": "print(var_dic_list())"
    },
    "r": {
     "delete_cmd_postfix": ") ",
     "delete_cmd_prefix": "rm(",
     "library": "var_list.r",
     "varRefreshCmd": "cat(var_dic_list()) "
    }
   },
   "types_to_exclude": [
    "module",
    "function",
    "builtin_function_or_method",
    "instance",
    "_Feature"
   ],
   "window_display": false
  }
 },
 "nbformat": 4,
 "nbformat_minor": 2
}
