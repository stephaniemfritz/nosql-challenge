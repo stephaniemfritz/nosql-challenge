{
 "cells": [
  {
   "cell_type": "code",
   "execution_count": 1,
   "metadata": {},
   "outputs": [],
   "source": [
    "# Dependencies\n",
    "import requests\n",
    "from pprint import pprint\n",
    "\n",
    "# Define the base World Bank API URL\n",
    "url = \"https://api.worldbank.org/v2/\"\n",
    "api_format = \"json\""
   ]
  },
  {
   "cell_type": "code",
   "execution_count": 2,
   "metadata": {},
   "outputs": [
    {
     "name": "stdout",
     "output_type": "stream",
     "text": [
      "{'adminregion': {'id': '', 'iso2code': '', 'value': ''},\n",
      " 'capitalCity': 'Oranjestad',\n",
      " 'id': 'ABW',\n",
      " 'incomeLevel': {'id': 'HIC', 'iso2code': 'XD', 'value': 'High income'},\n",
      " 'iso2Code': 'AW',\n",
      " 'latitude': '12.5167',\n",
      " 'lendingType': {'id': 'LNX', 'iso2code': 'XX', 'value': 'Not classified'},\n",
      " 'longitude': '-70.0167',\n",
      " 'name': 'Aruba',\n",
      " 'region': {'id': 'LCN',\n",
      "            'iso2code': 'ZJ',\n",
      "            'value': 'Latin America & Caribbean '}}\n"
     ]
    }
   ],
   "source": [
    "# Get country information in JSON format\n",
    "countries_url = f\"{url}countries?format={api_format}\"\n",
    "countries_response = requests.get(countries_url).json()\n",
    "\n",
    "# First element is general information, second is the countries\n",
    "countries = countries_response[1]\n",
    "\n",
    "# Print the first country object\n",
    "pprint(countries[0])"
   ]
  },
  {
   "cell_type": "code",
   "execution_count": 3,
   "metadata": {},
   "outputs": [
    {
     "name": "stdout",
     "output_type": "stream",
     "text": [
      "Aruba\n",
      "Africa Eastern and Southern\n",
      "Afghanistan\n",
      "Africa\n",
      "Africa Western and Central\n",
      "Angola\n",
      "Albania\n",
      "Andorra\n",
      "Arab World\n",
      "United Arab Emirates\n",
      "Argentina\n",
      "Armenia\n",
      "American Samoa\n",
      "Antigua and Barbuda\n",
      "Australia\n",
      "Austria\n",
      "Azerbaijan\n",
      "Burundi\n",
      "East Asia & Pacific (IBRD-only countries)\n",
      "Europe & Central Asia (IBRD-only countries)\n",
      "Belgium\n",
      "Benin\n",
      "Burkina Faso\n",
      "Bangladesh\n",
      "Bulgaria\n",
      "IBRD countries classified as high income\n",
      "Bahrain\n",
      "Bahamas, The\n",
      "Bosnia and Herzegovina\n",
      "Latin America & the Caribbean (IBRD-only countries)\n",
      "Belarus\n",
      "Belize\n",
      "Middle East & North Africa (IBRD-only countries)\n",
      "Bermuda\n",
      "Bolivia\n",
      "Brazil\n",
      "Barbados\n",
      "Brunei Darussalam\n",
      "Sub-Saharan Africa (IBRD-only countries)\n",
      "Bhutan\n",
      "Botswana\n",
      "Sub-Saharan Africa (IFC classification)\n",
      "Central African Republic\n",
      "Canada\n",
      "East Asia and the Pacific (IFC classification)\n",
      "Central Europe and the Baltics\n",
      "Europe and Central Asia (IFC classification)\n",
      "Switzerland\n",
      "Channel Islands\n",
      "Chile\n"
     ]
    }
   ],
   "source": [
    "# Print the name for each country in the response\n",
    "for country in countries:\n",
    "    print(country[\"name\"])"
   ]
  },
  {
   "cell_type": "code",
   "execution_count": null,
   "metadata": {},
   "outputs": [],
   "source": []
  }
 ],
 "metadata": {
  "kernelspec": {
   "display_name": "Python 3 (ipykernel)",
   "language": "python",
   "name": "python3"
  },
  "language_info": {
   "codemirror_mode": {
    "name": "ipython",
    "version": 3
   },
   "file_extension": ".py",
   "mimetype": "text/x-python",
   "name": "python",
   "nbconvert_exporter": "python",
   "pygments_lexer": "ipython3",
   "version": "3.10.14"
  }
 },
 "nbformat": 4,
 "nbformat_minor": 2
}
