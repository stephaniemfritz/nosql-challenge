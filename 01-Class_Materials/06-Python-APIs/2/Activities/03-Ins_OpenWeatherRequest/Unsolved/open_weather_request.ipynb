{
 "cells": [
  {
   "cell_type": "code",
   "execution_count": 1,
   "metadata": {},
   "outputs": [],
   "source": [
    "# Dependencies\n",
    "import json\n",
    "import requests\n",
    "from config import api_key\n",
    "from pprint import pprint"
   ]
  },
  {
   "cell_type": "code",
   "execution_count": 2,
   "metadata": {},
   "outputs": [],
   "source": [
    "# Save config information\n",
    "url = \"http://api.openweathermap.org/data/2.5/weather?\"\n",
    "city = \"London\"\n",
    "\n",
    "# Build query URL\n"
   ]
  },
  {
   "cell_type": "code",
   "execution_count": 3,
   "metadata": {},
   "outputs": [
    {
     "name": "stdout",
     "output_type": "stream",
     "text": [
      "(\"The weather API responded with: {'coord': {'lon': -0.1257, 'lat': 51.5085}, \"\n",
      " \"'weather': [{'id': 803, 'main': 'Clouds', 'description': 'broken clouds', \"\n",
      " \"'icon': '04n'}], 'base': 'stations', 'main': {'temp': 292.1, 'feels_like': \"\n",
      " \"292.4, 'temp_min': 291.21, 'temp_max': 292.88, 'pressure': 1009, 'humidity': \"\n",
      " \"90, 'sea_level': 1009, 'grnd_level': 1005}, 'visibility': 10000, 'wind': \"\n",
      " \"{'speed': 2.06, 'deg': 110}, 'clouds': {'all': 75}, 'dt': 1725253870, 'sys': \"\n",
      " \"{'type': 2, 'id': 2075535, 'country': 'GB', 'sunrise': 1725254122, 'sunset': \"\n",
      " \"1725302715}, 'timezone': 3600, 'id': 2643743, 'name': 'London', 'cod': 200}.\")\n"
     ]
    }
   ],
   "source": [
    "# Get weather data\n",
    "\n",
    "\n",
    "# Print the response\n"
   ]
  }
 ],
 "metadata": {
  "kernelspec": {
   "display_name": "Python 3 (ipykernel)",
   "language": "python",
   "name": "python3"
  },
  "language_info": {
   "codemirror_mode": {
    "name": "ipython",
    "version": 3
   },
   "file_extension": ".py",
   "mimetype": "text/x-python",
   "name": "python",
   "nbconvert_exporter": "python",
   "pygments_lexer": "ipython3",
   "version": "3.10.14"
  },
  "varInspector": {
   "cols": {
    "lenName": 16,
    "lenType": 16,
    "lenVar": 40
   },
   "kernels_config": {
    "python": {
     "delete_cmd_postfix": "",
     "delete_cmd_prefix": "del ",
     "library": "var_list.py",
     "varRefreshCmd": "print(var_dic_list())"
    },
    "r": {
     "delete_cmd_postfix": ") ",
     "delete_cmd_prefix": "rm(",
     "library": "var_list.r",
     "varRefreshCmd": "cat(var_dic_list()) "
    }
   },
   "types_to_exclude": [
    "module",
    "function",
    "builtin_function_or_method",
    "instance",
    "_Feature"
   ],
   "window_display": false
  }
 },
 "nbformat": 4,
 "nbformat_minor": 2
}
