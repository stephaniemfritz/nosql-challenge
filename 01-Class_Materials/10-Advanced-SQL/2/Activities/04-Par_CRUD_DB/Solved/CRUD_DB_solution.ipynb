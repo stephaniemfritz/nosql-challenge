{
 "cells": [
  {
   "cell_type": "code",
   "execution_count": 1,
   "metadata": {},
   "outputs": [],
   "source": [
    "# Import SQL Alchemy\n",
    "from sqlalchemy import create_engine\n",
    "\n",
    "# Import and establish Base for which classes will be constructed\n",
    "from sqlalchemy.orm import declarative_base\n",
    "Base = declarative_base()\n",
    "\n",
    "# Import modules to declare columns and column data types\n",
    "from sqlalchemy import Column, Integer, String, Float, Boolean"
   ]
  },
  {
   "cell_type": "code",
   "execution_count": 2,
   "metadata": {
    "nbgrader": {
     "grade": false,
     "grade_id": "cell-55d75c21dbb2c337",
     "locked": false,
     "schema_version": 1,
     "solution": true
    }
   },
   "outputs": [],
   "source": [
    "# Create the Travel class\n",
    "class Travel(Base):\n",
    "    __tablename__ = 'travel_destinations'\n",
    "    id = Column(Integer, primary_key=True)\n",
    "    city = Column(String(255))\n",
    "    country = Column(String(255))\n",
    "    distance = Column(Float)\n",
    "    budget = Column(Float)\n",
    "    visited = Column(Boolean)\n"
   ]
  },
  {
   "cell_type": "code",
   "execution_count": 3,
   "metadata": {
    "nbgrader": {
     "grade": false,
     "grade_id": "cell-4230ec6995aad3fd",
     "locked": false,
     "schema_version": 1,
     "solution": true
    }
   },
   "outputs": [],
   "source": [
    "# Create a connection to a SQLite database\n",
    "engine = create_engine('sqlite:///travel.db')"
   ]
  },
  {
   "cell_type": "code",
   "execution_count": 4,
   "metadata": {},
   "outputs": [],
   "source": [
    "# Create the travel_destinations table within the database\n",
    "Base.metadata.create_all(engine)"
   ]
  },
  {
   "cell_type": "code",
   "execution_count": 5,
   "metadata": {},
   "outputs": [],
   "source": [
    "# To push the objects made and query the server we use a Session object\n",
    "from sqlalchemy.orm import Session\n",
    "session = Session(bind=engine)"
   ]
  },
  {
   "cell_type": "code",
   "execution_count": 6,
   "metadata": {
    "nbgrader": {
     "grade": false,
     "grade_id": "cell-544743e14f0f9a25",
     "locked": false,
     "schema_version": 1,
     "solution": true
    }
   },
   "outputs": [],
   "source": [
    "# Create some instances of the Travel class\n",
    "destination_one = Travel(city=\"Santa Fe\", country=\"United States\", distance=1134.3, budget=500, visited=False)\n",
    "destination_two = Travel(city=\"Kyoto\", country=\"Japan\", distance=5341, budget=2000, visited=True)\n",
    "destination_three = Travel(city=\"Accra\", country=\"Ghana\", distance=7670, budget=5000, visited=False)"
   ]
  },
  {
   "cell_type": "code",
   "execution_count": 7,
   "metadata": {
    "nbgrader": {
     "grade": false,
     "grade_id": "cell-7ead20b8cbdbfb73",
     "locked": false,
     "schema_version": 1,
     "solution": true
    }
   },
   "outputs": [
    {
     "data": {
      "text/plain": [
       "[(1, 'Santa Fe', 'United States', 1134.3, 500.0, False),\n",
       " (2, 'Kyoto', 'Japan', 5341.0, 2000.0, True),\n",
       " (3, 'Accra', 'Ghana', 7670.0, 5000.0, False)]"
      ]
     },
     "execution_count": 7,
     "metadata": {},
     "output_type": "execute_result"
    }
   ],
   "source": [
    "# Add these objects to the session\n",
    "session.add(destination_one)\n",
    "session.add(destination_two)\n",
    "session.add(destination_three)\n",
    "\n",
    "# Commit the objects to the database\n",
    "session.commit()\n",
    "\n",
    "# print database\n",
    "session.query(Travel.id, Travel.city, Travel.country, Travel.distance,\n",
    "              Travel.budget, Travel.visited).all()"
   ]
  },
  {
   "cell_type": "code",
   "execution_count": 8,
   "metadata": {
    "nbgrader": {
     "grade": false,
     "grade_id": "cell-a66cda367a0b1515",
     "locked": false,
     "schema_version": 1,
     "solution": true
    }
   },
   "outputs": [
    {
     "data": {
      "text/plain": [
       "[(1, 'Santa Fe', 'United States', 1134.3, 500.0, True),\n",
       " (2, 'Kyoto', 'Japan', 5341.0, 3000.25, True),\n",
       " (3, 'Accra', 'Ghana', 7670.0, 5000.0, False)]"
      ]
     },
     "execution_count": 8,
     "metadata": {},
     "output_type": "execute_result"
    }
   ],
   "source": [
    "# Update two rows of data\n",
    "update_one = session.query(Travel).filter(Travel.id == 1).first()\n",
    "update_one.visited = True\n",
    "update_two = session.query(Travel).filter(Travel.id == 2).first()\n",
    "update_two.budget = 3000.25\n",
    "\n",
    "# Commit the updates to the database\n",
    "session.commit()\n",
    "\n",
    "# print database\n",
    "session.query(Travel.id, Travel.city, Travel.country, Travel.distance,\n",
    "              Travel.budget, Travel.visited).all()"
   ]
  },
  {
   "cell_type": "code",
   "execution_count": 9,
   "metadata": {
    "nbgrader": {
     "grade": false,
     "grade_id": "cell-2cee82afd03d3679",
     "locked": false,
     "schema_version": 1,
     "solution": true
    }
   },
   "outputs": [
    {
     "data": {
      "text/plain": [
       "[(2, 'Kyoto', 'Japan', 5341.0, 3000.25, True),\n",
       " (3, 'Accra', 'Ghana', 7670.0, 5000.0, False)]"
      ]
     },
     "execution_count": 9,
     "metadata": {},
     "output_type": "execute_result"
    }
   ],
   "source": [
    "# Delete the row with the shortest distance\n",
    "travel_short = session.query(Travel).order_by(Travel.distance).first()\n",
    "session.delete(travel_short)\n",
    "\n",
    "# Commit the delete to the database\n",
    "session.commit()\n",
    "\n",
    "# print database\n",
    "session.query(Travel.id, Travel.city, Travel.country, Travel.distance,\n",
    "              Travel.budget, Travel.visited).all()"
   ]
  },
  {
   "cell_type": "code",
   "execution_count": 10,
   "metadata": {},
   "outputs": [],
   "source": [
    "# Close the session\n",
    "session.close()"
   ]
  },
  {
   "cell_type": "code",
   "execution_count": null,
   "metadata": {},
   "outputs": [],
   "source": []
  },
  {
   "cell_type": "code",
   "execution_count": 11,
   "metadata": {},
   "outputs": [
    {
     "name": "stdout",
     "output_type": "stream",
     "text": [
      "2\n"
     ]
    }
   ],
   "source": [
    "# BONUS\n",
    "session = Session(bind=engine)\n",
    "\n",
    "# Use a SQLAlchemy function to identify the item with the lowest id value, and change its budget to $2,500.\n",
    "# Get the lowest id.\n",
    "lowest_id = session.query(Travel).order_by(Travel.id).first()\n",
    "print(lowest_id.id)"
   ]
  },
  {
   "cell_type": "code",
   "execution_count": 12,
   "metadata": {},
   "outputs": [
    {
     "name": "stdout",
     "output_type": "stream",
     "text": [
      "3000.25\n"
     ]
    }
   ],
   "source": [
    "# Print the budget for the lowest id.\n",
    "print(lowest_id.budget)"
   ]
  },
  {
   "cell_type": "code",
   "execution_count": 13,
   "metadata": {},
   "outputs": [
    {
     "name": "stdout",
     "output_type": "stream",
     "text": [
      "2500\n"
     ]
    }
   ],
   "source": [
    "# Set the budget for the lowest id to 2500.\n",
    "lowest_id.budget = 2500\n",
    "print(lowest_id.budget)"
   ]
  },
  {
   "cell_type": "code",
   "execution_count": 14,
   "metadata": {},
   "outputs": [],
   "source": [
    "# Commit the updates to the database\n",
    "session.commit()"
   ]
  },
  {
   "cell_type": "code",
   "execution_count": 15,
   "metadata": {},
   "outputs": [
    {
     "data": {
      "text/plain": [
       "[(2, 'Kyoto', 'Japan', 5341.0, 2500.0, True),\n",
       " (3, 'Accra', 'Ghana', 7670.0, 5000.0, False)]"
      ]
     },
     "execution_count": 15,
     "metadata": {},
     "output_type": "execute_result"
    }
   ],
   "source": [
    "# Check that the budget has been updated.\n",
    "session.query(Travel.id, Travel.city, Travel.country, Travel.distance,\n",
    "              Travel.budget, Travel.visited).all()"
   ]
  },
  {
   "cell_type": "code",
   "execution_count": 16,
   "metadata": {},
   "outputs": [],
   "source": [
    "session.close()"
   ]
  },
  {
   "cell_type": "code",
   "execution_count": null,
   "metadata": {},
   "outputs": [],
   "source": []
  }
 ],
 "metadata": {
  "celltoolbar": "Create Assignment",
  "kernelspec": {
   "display_name": "Python 3 (ipykernel)",
   "language": "python",
   "name": "python3"
  },
  "language_info": {
   "codemirror_mode": {
    "name": "ipython",
    "version": 3
   },
   "file_extension": ".py",
   "mimetype": "text/x-python",
   "name": "python",
   "nbconvert_exporter": "python",
   "pygments_lexer": "ipython3",
   "version": "3.10.12"
  },
  "varInspector": {
   "cols": {
    "lenName": 16,
    "lenType": 16,
    "lenVar": 40
   },
   "kernels_config": {
    "python": {
     "delete_cmd_postfix": "",
     "delete_cmd_prefix": "del ",
     "library": "var_list.py",
     "varRefreshCmd": "print(var_dic_list())"
    },
    "r": {
     "delete_cmd_postfix": ") ",
     "delete_cmd_prefix": "rm(",
     "library": "var_list.r",
     "varRefreshCmd": "cat(var_dic_list()) "
    }
   },
   "types_to_exclude": [
    "module",
    "function",
    "builtin_function_or_method",
    "instance",
    "_Feature"
   ],
   "window_display": false
  }
 },
 "nbformat": 4,
 "nbformat_minor": 4
}
