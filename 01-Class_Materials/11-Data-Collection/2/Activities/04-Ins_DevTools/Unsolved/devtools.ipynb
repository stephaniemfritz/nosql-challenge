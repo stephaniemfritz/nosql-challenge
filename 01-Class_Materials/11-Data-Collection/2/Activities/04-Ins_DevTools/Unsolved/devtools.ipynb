{
 "cells": [
  {
   "cell_type": "code",
   "execution_count": 1,
   "metadata": {},
   "outputs": [],
   "source": [
    "# Import dependencies\n",
    "from splinter import Browser\n",
    "from bs4 import BeautifulSoup"
   ]
  },
  {
   "cell_type": "code",
   "execution_count": 2,
   "metadata": {},
   "outputs": [],
   "source": [
    "# Open a Chrome window using Splinter\n"
   ]
  },
  {
   "cell_type": "code",
   "execution_count": 3,
   "metadata": {},
   "outputs": [],
   "source": [
    "# Set the url to visit\n",
    "url = \"https://stackoverflow.com/questions/tagged/python?sort=MostVotes&edited=true\""
   ]
  },
  {
   "cell_type": "code",
   "execution_count": 4,
   "metadata": {},
   "outputs": [],
   "source": [
    "# Use the browser to visit the url\n"
   ]
  },
  {
   "cell_type": "code",
   "execution_count": 5,
   "metadata": {},
   "outputs": [],
   "source": [
    "# Gather the html from the current page in the browser\n"
   ]
  },
  {
   "cell_type": "code",
   "execution_count": 6,
   "metadata": {},
   "outputs": [],
   "source": [
    "# Create a BeautifulSoup object from the HTML\n"
   ]
  },
  {
   "cell_type": "code",
   "execution_count": 7,
   "metadata": {},
   "outputs": [
    {
     "data": {
      "text/plain": [
       "'\\nQuestions tagged [python]        '"
      ]
     },
     "execution_count": 7,
     "metadata": {},
     "output_type": "execute_result"
    }
   ],
   "source": [
    "# Find the div with the id of \"mainbar\" that contains the question content\n",
    "\n",
    "\n",
    "# Display the text of the h1-level header\n"
   ]
  },
  {
   "cell_type": "code",
   "execution_count": 8,
   "metadata": {},
   "outputs": [
    {
     "data": {
      "text/plain": [
       "'Questions tagged [python]'"
      ]
     },
     "execution_count": 8,
     "metadata": {},
     "output_type": "execute_result"
    }
   ],
   "source": [
    "# Clean the header text by removing extra whitespace characters\n"
   ]
  },
  {
   "cell_type": "code",
   "execution_count": 9,
   "metadata": {},
   "outputs": [
    {
     "data": {
      "text/plain": [
       "[<a class=\"s-link\" href=\"/questions/231767/what-does-the-yield-keyword-do-in-python\">What does the \"yield\" keyword do in Python?</a>,\n",
       " <a class=\"s-link\" href=\"/questions/419163/what-does-if-name-main-do\">What does if __name__ == \"__main__\": do?</a>,\n",
       " <a class=\"s-link\" href=\"/questions/394809/does-python-have-a-ternary-conditional-operator\">Does Python have a ternary conditional operator?</a>,\n",
       " <a class=\"s-link\" href=\"/questions/100003/what-are-metaclasses-in-python\">What are metaclasses in Python?</a>,\n",
       " <a class=\"s-link\" href=\"/questions/82831/how-do-i-check-whether-a-file-exists-without-exceptions\">How do I check whether a file exists without exceptions?</a>,\n",
       " <a class=\"s-link\" href=\"/questions/38987/how-do-i-merge-two-dictionaries-in-a-single-expression-in-python\">How do I merge two dictionaries in a single expression in Python?</a>,\n",
       " <a class=\"s-link\" href=\"/questions/89228/how-do-i-execute-a-program-or-call-a-system-command\">How do I execute a program or call a system command?</a>,\n",
       " <a class=\"s-link\" href=\"/questions/273192/how-do-i-create-a-directory-and-any-missing-parent-directories\">How do I create a directory, and any missing parent directories?</a>,\n",
       " <a class=\"s-link\" href=\"/questions/522563/how-to-access-the-index-value-in-a-for-loop\">How to access the index value in a 'for' loop?</a>,\n",
       " <a class=\"s-link\" href=\"/questions/952914/how-do-i-make-a-flat-list-out-of-a-list-of-lists\">How do I make a flat list out of a list of lists?</a>,\n",
       " <a class=\"s-link\" href=\"/questions/136097/what-is-the-difference-between-staticmethod-and-classmethod-in-python\">What is the difference between @staticmethod and @classmethod in Python?</a>,\n",
       " <a class=\"s-link\" href=\"/questions/509211/how-slicing-in-python-works\">How slicing in Python works</a>,\n",
       " <a class=\"s-link\" href=\"/questions/176918/how-to-find-the-index-for-a-given-item-in-a-list\">How to find the index for a given item in a list?</a>,\n",
       " <a class=\"s-link\" href=\"/questions/3294889/iterating-over-dictionaries-using-for-loops\">Iterating over dictionaries using 'for' loops</a>,\n",
       " <a class=\"s-link\" href=\"/questions/16476924/how-can-i-iterate-over-rows-in-a-pandas-dataframe\">How can I iterate over rows in a Pandas DataFrame?</a>]"
      ]
     },
     "execution_count": 9,
     "metadata": {},
     "output_type": "execute_result"
    }
   ],
   "source": [
    "# Select all link elements with the class of \"s-link\"\n"
   ]
  },
  {
   "cell_type": "code",
   "execution_count": 10,
   "metadata": {},
   "outputs": [
    {
     "name": "stdout",
     "output_type": "stream",
     "text": [
      "['s-link']\n",
      "['s-link']\n",
      "['s-link']\n",
      "['s-link']\n",
      "['s-link']\n",
      "['s-link']\n",
      "['s-link']\n",
      "['s-link']\n",
      "['s-link']\n",
      "['s-link']\n",
      "['s-link']\n",
      "['s-link']\n",
      "['s-link']\n",
      "['s-link']\n",
      "['s-link']\n"
     ]
    }
   ],
   "source": [
    "# For each link, display their class attribute\n"
   ]
  },
  {
   "cell_type": "code",
   "execution_count": 11,
   "metadata": {},
   "outputs": [
    {
     "data": {
      "text/plain": [
       "'/questions/231767/what-does-the-yield-keyword-do-in-python'"
      ]
     },
     "execution_count": 11,
     "metadata": {},
     "output_type": "execute_result"
    }
   ],
   "source": [
    "# Display the URL of the first question link\n"
   ]
  },
  {
   "cell_type": "code",
   "execution_count": 12,
   "metadata": {},
   "outputs": [
    {
     "data": {
      "text/plain": [
       "'What does the \"yield\" keyword do in Python?'"
      ]
     },
     "execution_count": 12,
     "metadata": {},
     "output_type": "execute_result"
    }
   ],
   "source": [
    "# Display the text of the first question link\n"
   ]
  },
  {
   "cell_type": "code",
   "execution_count": 13,
   "metadata": {},
   "outputs": [],
   "source": [
    "# Close the browser\n"
   ]
  }
 ],
 "metadata": {
  "kernelspec": {
   "display_name": "Python 3 (ipykernel)",
   "language": "python",
   "name": "python3"
  },
  "language_info": {
   "codemirror_mode": {
    "name": "ipython",
    "version": 3
   },
   "file_extension": ".py",
   "mimetype": "text/x-python",
   "name": "python",
   "nbconvert_exporter": "python",
   "pygments_lexer": "ipython3",
   "version": "3.10.14"
  }
 },
 "nbformat": 4,
 "nbformat_minor": 4
}
