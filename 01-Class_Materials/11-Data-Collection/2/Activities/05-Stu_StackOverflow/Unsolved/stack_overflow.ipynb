{
 "cells": [
  {
   "cell_type": "code",
   "execution_count": 1,
   "metadata": {},
   "outputs": [],
   "source": [
    "# Import dependencies\n",
    "from splinter import Browser\n",
    "from bs4 import BeautifulSoup\n",
    "\n",
    "# Launch the browser\n",
    "browser = Browser('chrome')"
   ]
  },
  {
   "cell_type": "code",
   "execution_count": 2,
   "metadata": {},
   "outputs": [],
   "source": [
    "# Set the URL to visit to a variable\n",
    "url = \"https://stackoverflow.com/questions/tagged/python?sort=MostVotes&edited=true\"\n",
    "\n",
    "# Send the browser to the URL\n",
    "browser.visit(url)\n",
    "\n",
    "# Save the HTML from the browser\n",
    "html = browser.html\n",
    "\n",
    "# Create a BeautifulSoup object from the HTML\n",
    "soup = BeautifulSoup(html, 'html.parser')"
   ]
  },
  {
   "cell_type": "code",
   "execution_count": 3,
   "metadata": {},
   "outputs": [],
   "source": [
    "# Find the div with the id of \"mainbar\" that contains the question content\n"
   ]
  },
  {
   "cell_type": "code",
   "execution_count": 4,
   "metadata": {},
   "outputs": [],
   "source": [
    "# Find all divs that contain a question\n"
   ]
  },
  {
   "cell_type": "code",
   "execution_count": 5,
   "metadata": {},
   "outputs": [
    {
     "data": {
      "text/plain": [
       "'What does the \"yield\" keyword do in Python?'"
      ]
     },
     "execution_count": 5,
     "metadata": {},
     "output_type": "execute_result"
    }
   ],
   "source": [
    "# Find the summary text of the first question\n"
   ]
  },
  {
   "cell_type": "code",
   "execution_count": 6,
   "metadata": {},
   "outputs": [
    {
     "data": {
      "text/plain": [
       "'12943'"
      ]
     },
     "execution_count": 6,
     "metadata": {},
     "output_type": "execute_result"
    }
   ],
   "source": [
    "# Find the vote count text of the first question\n"
   ]
  },
  {
   "cell_type": "code",
   "execution_count": 7,
   "metadata": {},
   "outputs": [
    {
     "data": {
      "text/plain": [
       "\"What functionality does the yield keyword in Python provide?\\nFor example, I'm trying to understand this code1:\\ndef _get_child_candidates(self, distance, min_dist, max_dist):\\n    if self._leftchild and ...\""
      ]
     },
     "execution_count": 7,
     "metadata": {},
     "output_type": "execute_result"
    }
   ],
   "source": [
    "# Find and strip the excerpt text of the first question\n"
   ]
  },
  {
   "cell_type": "code",
   "execution_count": 8,
   "metadata": {},
   "outputs": [],
   "source": [
    "# Create an empty list to store the questions\n"
   ]
  },
  {
   "cell_type": "code",
   "execution_count": 9,
   "metadata": {},
   "outputs": [],
   "source": [
    "# Create a for loop to extract the information\n",
    "\n",
    "    # Extract the summary\n",
    "\n",
    "\n",
    "    # Extract the votes\n",
    "\n",
    "\n",
    "    # Extract the excerpt\n",
    "\n",
    "\n",
    "    # Create a dictionary to store the information\n",
    "\n",
    "\n",
    "    # Append the dictionary to the question list\n"
   ]
  },
  {
   "cell_type": "code",
   "execution_count": 10,
   "metadata": {},
   "outputs": [
    {
     "data": {
      "text/plain": [
       "[{'summary': 'What does the \"yield\" keyword do in Python?',\n",
       "  'votes': 12943,\n",
       "  'excerpt': \"What functionality does the yield keyword in Python provide?\\nFor example, I'm trying to understand this code1:\\ndef _get_child_candidates(self, distance, min_dist, max_dist):\\n    if self._leftchild and ...\"},\n",
       " {'summary': 'What does if __name__ == \"__main__\": do?',\n",
       "  'votes': 8249,\n",
       "  'excerpt': 'What does this do, and why should one include the if statement?\\nif __name__ == \"__main__\":\\n    print(\"Hello, World!\")\\nIf you are trying to close a question where someone should be ...'},\n",
       " {'summary': 'Does Python have a ternary conditional operator?',\n",
       "  'votes': 7949,\n",
       "  'excerpt': 'Is there a ternary conditional operator in Python?'},\n",
       " {'summary': 'What are metaclasses in Python?',\n",
       "  'votes': 7401,\n",
       "  'excerpt': 'What are metaclasses? What are they used for?'},\n",
       " {'summary': 'How do I check whether a file exists without exceptions?',\n",
       "  'votes': 7173,\n",
       "  'excerpt': 'How do I check whether a file exists or not, without using the try statement?'},\n",
       " {'summary': 'How do I merge two dictionaries in a single expression in Python?',\n",
       "  'votes': 6975,\n",
       "  'excerpt': \"I want to merge two dictionaries into a new dictionary.\\nx = {'a': 1, 'b': 2}\\ny = {'b': 3, 'c': 4}\\nz = merge(x, y)\\n\\n>>> z\\n{'a': 1, 'b': 3, 'c': 4}\\n\\nWhenever a key k is present in both ...\"},\n",
       " {'summary': 'How do I execute a program or call a system command?',\n",
       "  'votes': 6161,\n",
       "  'excerpt': 'How do I call an external command within Python as if I had typed it in a shell or command prompt?'},\n",
       " {'summary': 'How do I create a directory, and any missing parent directories?',\n",
       "  'votes': 5692,\n",
       "  'excerpt': 'How do I create a directory at a given path, and also create any missing parent directories along that path? For example, the Bash command mkdir -p /path/to/nested/directory does this.'},\n",
       " {'summary': \"How to access the index value in a 'for' loop?\",\n",
       "  'votes': 5494,\n",
       "  'excerpt': 'How do I access the index while iterating over a sequence with a for loop?\\nxs = [8, 23, 45]\\n\\nfor x in xs:\\n    print(\"item #{} = {}\".format(index, x))\\n\\nDesired output:\\nitem #1 = 8\\nitem #2 = ...'},\n",
       " {'summary': 'How do I make a flat list out of a list of lists?',\n",
       "  'votes': 5368,\n",
       "  'excerpt': 'I have a list of lists like\\n[\\n    [1, 2, 3],\\n    [4, 5, 6],\\n    [7],\\n    [8, 9]\\n]\\n\\nHow can I flatten it to get [1, 2, 3, 4, 5, 6, 7, 8, 9]?\\n\\nIf your list of lists comes from a nested list ...'},\n",
       " {'summary': 'What is the difference between @staticmethod and @classmethod in Python?',\n",
       "  'votes': 4677,\n",
       "  'excerpt': 'What is the difference between a method decorated with @staticmethod and one decorated with @classmethod?'},\n",
       " {'summary': 'How slicing in Python works',\n",
       "  'votes': 4607,\n",
       "  'excerpt': \"How does Python's slice notation work? That is: when I write code like a[x:y:z], a[:], a[::2] etc., how can I understand which elements end up in the slice?\\n\\nSee Why are slice and range upper-bound ...\"},\n",
       " {'summary': 'How to find the index for a given item in a list?',\n",
       "  'votes': 4410,\n",
       "  'excerpt': 'Given a list [\"foo\", \"bar\", \"baz\"] and an item in the list \"bar\", how do I get its index 1?'},\n",
       " {'summary': \"Iterating over dictionaries using 'for' loops\",\n",
       "  'votes': 4326,\n",
       "  'excerpt': \"d = {'x': 1, 'y': 2, 'z': 3}\\n\\nfor key in d:\\n    print(key, 'corresponds to', d[key])\\n\\nHow does Python recognize that it needs only to read the key from the dictionary? Is key a special keyword, or is ...\"},\n",
       " {'summary': 'How can I iterate over rows in a Pandas DataFrame?',\n",
       "  'votes': 4114,\n",
       "  'excerpt': 'I have a pandas dataframe, df:\\n   c1   c2\\n0  10  100\\n1  11  110\\n2  12  120\\n\\nHow do I iterate over the rows of this dataframe? For every row, I want to access its elements (values in cells) by the name ...'}]"
      ]
     },
     "execution_count": 10,
     "metadata": {},
     "output_type": "execute_result"
    }
   ],
   "source": [
    "# Display the question list\n"
   ]
  },
  {
   "cell_type": "code",
   "execution_count": 11,
   "metadata": {},
   "outputs": [],
   "source": [
    "# Close the browser\n"
   ]
  }
 ],
 "metadata": {
  "kernelspec": {
   "display_name": "Python 3 (ipykernel)",
   "language": "python",
   "name": "python3"
  },
  "language_info": {
   "codemirror_mode": {
    "name": "ipython",
    "version": 3
   },
   "file_extension": ".py",
   "mimetype": "text/x-python",
   "name": "python",
   "nbconvert_exporter": "python",
   "pygments_lexer": "ipython3",
   "version": "3.10.14"
  }
 },
 "nbformat": 4,
 "nbformat_minor": 4
}
